{
 "cells": [
  {
   "cell_type": "markdown",
   "metadata": {},
   "source": [
    "# Docker Commands for Setting up SQL Edge and Metabase"
   ]
  },
  {
   "cell_type": "markdown",
   "metadata": {},
   "source": [
    "## 1. Run SQL Edge container\n",
    "\n",
    "```bash\n",
    "docker run --cap-add SYS_PTRACE -e \"ACCEPT_EULA=1\" -e \"MSSQL_SA_PASSWORD=Aa12345678!\" -p 1433:1433 --name sqledge -d mcr.microsoft.com/azure-sql-edge"
   ]
  },
  {
   "cell_type": "markdown",
   "metadata": {},
   "source": [
    "## 2. Check running containers\n",
    "\n",
    "```bash\n",
    "docker ps"
   ]
  },
  {
   "cell_type": "markdown",
   "metadata": {},
   "source": [
    "## 3. Create a Docker network\n",
    "\n",
    "```bash\n",
    "docker network create my_network"
   ]
  },
  {
   "cell_type": "markdown",
   "metadata": {},
   "source": [
    "## 4. Connect the SQL Edge * Metabase container to the network\n",
    "\n",
    "```bash\n",
    "docker network connect my_network sqledge\n",
    "\n",
    "docker network connect my_network metabase\n",
    "\n",
    "docker restart sqledge\n",
    "\n",
    "docker restart metabase\n",
    "\n",
    "docker network inspect my_network"
   ]
  },
  {
   "cell_type": "markdown",
   "metadata": {},
   "source": [
    "## 5. Access the Metabase container with Bash & run bash to check sqledge connection\n",
    "\n",
    "```bash\n",
    "docker exec -it metabase /bin/bash\n",
    "\n",
    "ping sqledge"
   ]
  },
  {
   "cell_type": "markdown",
   "metadata": {},
   "source": [
    "## 6. Find the IP of the SQL Edge container\n",
    "\n",
    "```bash\n",
    "docker inspect -f '{{range.NetworkSettings.Networks}}{{.IPAddress}}{{end}}' sqledge"
   ]
  },
  {
   "cell_type": "markdown",
   "metadata": {},
   "source": [
    "## 7. Tạo kết nối trong Metabase\n",
    "\n",
    "`host`: lấy trong IP số 6\n",
    "\n",
    "`port`: 1433\n",
    "\n",
    "`account`: sa \n",
    "\n",
    "`password`: Aa12345678!\n",
    "\n",
    "`trustServerCertificate=true`"
   ]
  }
 ],
 "metadata": {
  "language_info": {
   "name": "python"
  }
 },
 "nbformat": 4,
 "nbformat_minor": 2
}
